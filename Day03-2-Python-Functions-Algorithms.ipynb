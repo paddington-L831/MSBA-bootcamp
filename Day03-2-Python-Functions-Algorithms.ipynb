{
  "cells": [
    {
      "cell_type": "markdown",
      "metadata": {
        "id": "qdHAx2DVNPmN"
      },
      "source": [
        "# Day 3: Functions & Basic Algorithms\n",
        "## Lecture Notebook\n",
        "\n",
        "This notebook is for live coding on functions and basic algorithms (searching and simple aggregations).\n",
        "\n",
        "---\n"
      ]
    },
    {
      "cell_type": "markdown",
      "metadata": {
        "id": "huWp-FZsNPmO"
      },
      "source": [
        "## 🎯 Goals for This Session\n",
        "- Define and call functions with parameters and return values\n",
        "- Compose functions for clarity and reuse\n",
        "- Implement linear search and manual max\n",
        "\n",
        "---\n"
      ]
    },
    {
      "cell_type": "markdown",
      "metadata": {
        "id": "Ofg4e5GxNPmQ"
      },
      "source": [
        "## 🧩 Part 1: Functions\n",
        "\n",
        "### Demo 1.1: Summary Function\n",
        "Write `summarize(numbers)` that returns `(count, total, mean)` for list objects.\n"
      ]
    },
    {
      "cell_type": "code",
      "execution_count": null,
      "metadata": {
        "id": "SuiKk04pNPmR"
      },
      "outputs": [],
      "source": [
        "# Live Code: summarize\n",
        "\n",
        "# def summarize(numbers):\n",
        "#     ...\n",
        "# return count, total, mean\n",
        "\n"
      ]
    },
    {
      "cell_type": "markdown",
      "metadata": {
        "id": "Hh2Vodj_NPmS"
      },
      "source": [
        "### Demo 1.2: Parameters and Defaults\n",
        "Write `apply_tax(amount, rate=0.0625)` returning the rounded total.\n"
      ]
    },
    {
      "cell_type": "code",
      "execution_count": null,
      "metadata": {
        "id": "D3TWzrLiNPmT"
      },
      "outputs": [],
      "source": [
        "# Live Code: apply_tax\n",
        "\n",
        "# def apply_tax(amount, rate=0.0625):\n",
        "#     ...\n",
        "# return round(total, 2)\n",
        "\n"
      ]
    },
    {
      "cell_type": "markdown",
      "metadata": {
        "id": "QNXulHH-NPmU"
      },
      "source": [
        "## 🔍 Part 2: Basic Algorithms\n",
        "\n",
        "### Demo 2.1: Linear Search\n",
        "Implement `find_index(items, target)` to return the first index or `-1`."
      ]
    },
    {
      "cell_type": "code",
      "execution_count": null,
      "metadata": {
        "id": "fNY_EBB3NPmV"
      },
      "outputs": [],
      "source": [
        "# Live Code: find_index\n",
        "\n",
        "# def find_index(items, target):\n",
        "#     ...\n",
        "# return -1\n",
        "\n"
      ]
    },
    {
      "cell_type": "markdown",
      "metadata": {
        "id": "2Tf7MfAFNPmW"
      },
      "source": [
        "### Demo 2.2: Simple Sort\n",
        "Here’s a bare-bones outline of selection sort. Convert it into a function to sort lists:\n",
        "\n",
        "1. Start at the first position in the list.\n",
        "2. Find the smallest value in the remaining unsorted part of the list.\n",
        "3. Swap it with the value at the current position.\n",
        "4. Move to the next position and repeat steps 2–3 until the whole list is sorted.\n"
      ]
    },
    {
      "cell_type": "code",
      "execution_count": 16,
      "metadata": {
        "id": "c8fon6cFNPmX",
        "outputId": "ff2e81d1-6d12-46ea-8c6b-8ff69291f256",
        "colab": {
          "base_uri": "https://localhost:8080/"
        }
      },
      "outputs": [
        {
          "output_type": "stream",
          "name": "stdout",
          "text": [
            "[1, 2, 3, 4, 5, 8]\n"
          ]
        }
      ],
      "source": [
        "# Live Code: selection sort\n",
        "\n",
        "def selection_sort(lst):\n",
        "  for i in range(len(lst)):\n",
        "    min_index = i\n",
        "    for j in range(i+1, len(lst)):\n",
        "      if lst[j] < lst[min_index]:\n",
        "        min_index = j\n",
        "    lst[i], lst[min_index] = lst[min_index], lst[i]\n",
        "  return lst\n",
        "\n",
        "lst = [8,4,2,1,5,3]\n",
        "sorted_lst = selection_sort(lst)\n",
        "print(sorted_lst)\n",
        "\n"
      ]
    },
    {
      "cell_type": "markdown",
      "metadata": {
        "id": "-Rc69F9eNPmY"
      },
      "source": [
        "### Demo 2.3: Running Total (Cumulative Sum)\n",
        "Write a function `running_total(numbers)` that returns a new list where each element is the cumulative sum up to that position."
      ]
    },
    {
      "cell_type": "code",
      "execution_count": null,
      "metadata": {
        "id": "HfhPiBvONPma"
      },
      "outputs": [],
      "source": [
        "# Live Code: running_total\n",
        "\n",
        "# def running_total(numbers):\n",
        "#     ...\n",
        "# return result\n",
        "\n"
      ]
    },
    {
      "cell_type": "markdown",
      "metadata": {
        "id": "VXJQE12pNPmb"
      },
      "source": [
        "### Demo 2.4: Order-Preserving Dedup\n",
        "Write a function `dedup_preserve(items)` that removes duplicates while keeping the first occurrence and preserving original order.\n"
      ]
    },
    {
      "cell_type": "code",
      "execution_count": null,
      "metadata": {
        "id": "vq0SLXyQNPmc"
      },
      "outputs": [],
      "source": [
        "# Live Code: dedup_preserve\n",
        "\n",
        "# def dedup_preserve(items):\n",
        "#     ...\n",
        "# return unique_items\n",
        "\n"
      ]
    },
    {
      "cell_type": "markdown",
      "metadata": {
        "id": "cRetyb27NPmc"
      },
      "source": [
        "### Demo 2.5\n",
        "Add a docstring for the function you wrote in 2.4"
      ]
    },
    {
      "cell_type": "code",
      "execution_count": null,
      "metadata": {
        "id": "3ZKe0yNINPmc"
      },
      "outputs": [],
      "source": [
        "# Live Code: dedup_preserve with docstring\n",
        "\n",
        "# def dedup_preserve(items):\n",
        "# \"\"\"\n",
        "# ...\n",
        "# \"\"\"\n",
        "# return unique_items"
      ]
    }
  ],
  "metadata": {
    "kernelspec": {
      "display_name": "py_latest",
      "language": "python",
      "name": "python3"
    },
    "language_info": {
      "codemirror_mode": {
        "name": "ipython",
        "version": 3
      },
      "file_extension": ".py",
      "mimetype": "text/x-python",
      "name": "python",
      "nbconvert_exporter": "python",
      "pygments_lexer": "ipython3",
      "version": "3.13.2"
    },
    "colab": {
      "provenance": []
    }
  },
  "nbformat": 4,
  "nbformat_minor": 0
}