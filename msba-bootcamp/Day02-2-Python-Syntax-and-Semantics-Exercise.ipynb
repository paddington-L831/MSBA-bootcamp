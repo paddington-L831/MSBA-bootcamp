{
  "nbformat": 4,
  "nbformat_minor": 0,
  "metadata": {
    "kernelspec": {
      "display_name": "Python 3",
      "language": "python",
      "name": "python3"
    },
    "language_info": {
      "codemirror_mode": {
        "name": "ipython",
        "version": 3
      },
      "file_extension": ".py",
      "mimetype": "text/x-python",
      "name": "python",
      "nbconvert_exporter": "python",
      "pygments_lexer": "ipython3",
      "version": "3.7.2"
    },
    "colab": {
      "name": "Exercise-01-Python-Syntax-and-Semantics.ipynb",
      "provenance": [],
      "collapsed_sections": []
    }
  },
  "cells": [
    {
      "cell_type": "code",
      "metadata": {
        "id": "Qz8NhXDlPRQz"
      },
      "source": [
        "# This cell is used to load the hints and solutions, if needed\n",
        "from IPython.display import Pretty as disp\n",
        "hint = 'https://raw.githubusercontent.com/soltaniehha/Business-Analytics/master/docs/hints/'  # path to hints on GitHub"
      ],
      "execution_count": 1,
      "outputs": []
    },
    {
      "cell_type": "markdown",
      "metadata": {
        "id": "Dgz80FppOMoX"
      },
      "source": [
        "# Exercise 1\n",
        "How can you improve the syntax used in the following code cells?\n",
        "\n",
        "Consider conventions, and code readability."
      ]
    },
    {
      "cell_type": "code",
      "metadata": {
        "id": "0ERoHwbIOMoc"
      },
      "source": [
        "x=  4+ 1"
      ],
      "execution_count": null,
      "outputs": []
    },
    {
      "cell_type": "code",
      "metadata": {
        "id": "fsyiyWbjP0vQ"
      },
      "source": [
        "# HINT: Uncomment and execute the cell below to get help\n",
        "#disp(hint + '02-01-ex01-a-hint')"
      ],
      "execution_count": 7,
      "outputs": []
    },
    {
      "cell_type": "code",
      "metadata": {
        "id": "aDi883v0PDTH"
      },
      "source": [
        "# SOLUTION: Uncomment and execute the cell below to get help\n",
        "#disp(hint + '02-01-ex01-a')"
      ],
      "execution_count": 8,
      "outputs": []
    },
    {
      "cell_type": "code",
      "metadata": {
        "id": "mHCVNBkrOMoc",
        "outputId": "0432c903-40d9-4a7a-81c8-2dd171ba1a6e"
      },
      "source": [
        "print(x); x = x + 1; print(x); x += 1; print(x)"
      ],
      "execution_count": null,
      "outputs": [
        {
          "output_type": "stream",
          "text": [
            "5\n",
            "6\n",
            "7\n"
          ],
          "name": "stdout"
        }
      ]
    },
    {
      "cell_type": "code",
      "metadata": {
        "id": "T6-uLe86Pmes"
      },
      "source": [
        "# SOLUTION: Uncomment and execute the cell below to get help\n",
        "#disp(hint + '02-01-ex01-b')"
      ],
      "execution_count": 10,
      "outputs": []
    },
    {
      "cell_type": "code",
      "metadata": {
        "id": "LsF9qusFOMod",
        "outputId": "ebe49471-2a86-4af1-ac09-b1f460a5ebd6"
      },
      "source": [
        "for i in range(10):\n",
        "  if i % 3 == 0  :#checks to see if i is a multiple of 3\n",
        "         print(i, 'is a multiple of 3!')"
      ],
      "execution_count": null,
      "outputs": [
        {
          "output_type": "stream",
          "text": [
            "0 is a multiple of 3!\n",
            "3 is a multiple of 3!\n",
            "6 is a multiple of 3!\n",
            "9 is a multiple of 3!\n"
          ],
          "name": "stdout"
        }
      ]
    },
    {
      "cell_type": "code",
      "metadata": {
        "id": "sSJ15iZ9QFgI"
      },
      "source": [
        "# SOLUTION: Uncomment and execute the cell below to get help\n",
        "#disp(hint + '02-01-ex01-c')"
      ],
      "execution_count": null,
      "outputs": []
    },
    {
      "cell_type": "code",
      "metadata": {
        "id": "RfRd1xUQOMod",
        "outputId": "6199dfbb-4dcd-4968-be01-126fc30fdb10"
      },
      "source": [
        "2*8+8/4-9+2*1-1"
      ],
      "execution_count": null,
      "outputs": [
        {
          "output_type": "execute_result",
          "data": {
            "text/plain": [
              "10.0"
            ]
          },
          "metadata": {
            "tags": []
          },
          "execution_count": 4
        }
      ]
    },
    {
      "cell_type": "code",
      "metadata": {
        "id": "i_eeAZNeQNuw"
      },
      "source": [
        "# SOLUTION: Uncomment and execute the cell below to get help\n",
        "#disp(hint + '02-01-ex01-d')"
      ],
      "execution_count": null,
      "outputs": []
    },
    {
      "cell_type": "markdown",
      "metadata": {
        "id": "H_kbXQrGOMoe"
      },
      "source": [
        "# Exercise 2\n",
        "Create a variable `savings` and give it value 200"
      ]
    },
    {
      "cell_type": "code",
      "metadata": {
        "id": "hlGLw_2EOMoe"
      },
      "source": [
        "# Your answer goes here\n"
      ],
      "execution_count": null,
      "outputs": []
    },
    {
      "cell_type": "code",
      "metadata": {
        "id": "fYsFWqrlQgW5"
      },
      "source": [
        "# SOLUTION: Uncomment and execute the cell below to get help\n",
        "#disp(hint + '02-01-ex02-a')"
      ],
      "execution_count": null,
      "outputs": []
    },
    {
      "cell_type": "markdown",
      "metadata": {
        "id": "SlS2MEcCOMoe"
      },
      "source": [
        "Create a variable `factor` and assign it value 1.1"
      ]
    },
    {
      "cell_type": "code",
      "metadata": {
        "id": "Yp6mrZfbOMoe"
      },
      "source": [
        "# Your answer goes here\n"
      ],
      "execution_count": null,
      "outputs": []
    },
    {
      "cell_type": "code",
      "metadata": {
        "id": "ts0YnFSEQovL"
      },
      "source": [
        "# SOLUTION: Uncomment and execute the cell below to get help\n",
        "#disp(hint + '02-01-ex02-b')"
      ],
      "execution_count": null,
      "outputs": []
    },
    {
      "cell_type": "markdown",
      "metadata": {
        "id": "zbI5XvEYOMof"
      },
      "source": [
        "Calculate `balance`:"
      ]
    },
    {
      "cell_type": "code",
      "metadata": {
        "id": "FBBxiSsJOMof"
      },
      "source": [
        "balance = savings * factor ** 5"
      ],
      "execution_count": null,
      "outputs": []
    },
    {
      "cell_type": "markdown",
      "metadata": {
        "id": "Xru-33ZgOMof"
      },
      "source": [
        "Now print a statement that says something like \"Your account balance after 5 years would be: $xxx\" and use the value of `balance` to populate xxx:"
      ]
    },
    {
      "cell_type": "code",
      "metadata": {
        "id": "G4BEOYnfOMof",
        "outputId": "f3063638-bcc3-42d0-9b6d-f614a270c6d9"
      },
      "source": [
        "# Your answer goes here\n"
      ],
      "execution_count": null,
      "outputs": [
        {
          "output_type": "stream",
          "text": [
            "Your account balance after 5 years would be: $ 322.1020000000001\n"
          ],
          "name": "stdout"
        }
      ]
    },
    {
      "cell_type": "code",
      "metadata": {
        "id": "pfgud1TOQx0o"
      },
      "source": [
        "# SOLUTION: Uncomment and execute the cell below to get help\n",
        "#disp(hint + '02-01-ex02-c')"
      ],
      "execution_count": null,
      "outputs": []
    },
    {
      "cell_type": "markdown",
      "metadata": {
        "id": "j5z9BSj9OMof"
      },
      "source": [
        "Let's make two modifications to this:\n",
        "* use `sep = ''` in print function to avoid the extra space between dollar sign and balance value.\n",
        "* use `round()` function to round to two decimals\n",
        "\n",
        "Note: Use `?round` in a new cell to get help from the help function."
      ]
    },
    {
      "cell_type": "code",
      "metadata": {
        "id": "wd8hnFKDOMog",
        "outputId": "67ed92bc-9905-464d-f25f-da0d7f03723e"
      },
      "source": [
        "# Your answer goes here\n"
      ],
      "execution_count": null,
      "outputs": [
        {
          "output_type": "stream",
          "text": [
            "Your account balance after 5 years would be: $322.1\n"
          ],
          "name": "stdout"
        }
      ]
    },
    {
      "cell_type": "code",
      "metadata": {
        "id": "K1ZQC7TfQ35D"
      },
      "source": [
        "# SOLUTION: Uncomment and execute the cell below to get help\n",
        "#disp(hint + '02-01-ex02-d')"
      ],
      "execution_count": null,
      "outputs": []
    },
    {
      "cell_type": "markdown",
      "metadata": {
        "id": "RyNTgcOoOMog"
      },
      "source": [
        "# Exercise 3\n",
        "The value of pi is given below in a string/character format:"
      ]
    },
    {
      "cell_type": "code",
      "metadata": {
        "id": "UOcoQsflOMog",
        "outputId": "effc0b01-7154-4400-892a-c5717520e91b"
      },
      "source": [
        "pi_char = \"3.1415926535\"\n",
        "type(pi_char)"
      ],
      "execution_count": null,
      "outputs": [
        {
          "output_type": "execute_result",
          "data": {
            "text/plain": [
              "str"
            ]
          },
          "metadata": {
            "tags": []
          },
          "execution_count": 6
        }
      ]
    },
    {
      "cell_type": "markdown",
      "metadata": {
        "id": "Dosji50-OMog"
      },
      "source": [
        "Google and find a function that would convert it to float so we can use it in math equations, call this new converted value `pi`"
      ]
    },
    {
      "cell_type": "code",
      "metadata": {
        "id": "R8FOKf03OMog"
      },
      "source": [
        "# Your answer goes here\n"
      ],
      "execution_count": null,
      "outputs": []
    },
    {
      "cell_type": "code",
      "metadata": {
        "id": "gJ_335Y2Q-Tz"
      },
      "source": [
        "# SOLUTION: Uncomment and execute the cell below to get help\n",
        "#disp(hint + '02-01-ex03-a')"
      ],
      "execution_count": null,
      "outputs": []
    },
    {
      "cell_type": "markdown",
      "metadata": {
        "id": "tiTydXSNOMog"
      },
      "source": [
        "Using this variable calculate the area of a circle with radius `r = 2` and print a rounded value for area (up to 3 decimals):"
      ]
    },
    {
      "cell_type": "code",
      "metadata": {
        "id": "mUbqtQIDOMoh",
        "outputId": "43d794e2-058f-41e3-fb69-0332622f768f"
      },
      "source": [
        "# Your answer goes here\n"
      ],
      "execution_count": null,
      "outputs": [
        {
          "output_type": "stream",
          "text": [
            "The area of a circle with radius 2 is 12.566\n"
          ],
          "name": "stdout"
        }
      ]
    },
    {
      "cell_type": "code",
      "metadata": {
        "id": "yHPKuQLzRH95"
      },
      "source": [
        "# SOLUTION: Uncomment and execute the cell below to get help\n",
        "#disp(hint + '02-01-ex03-b')"
      ],
      "execution_count": null,
      "outputs": []
    },
    {
      "cell_type": "markdown",
      "metadata": {
        "id": "U_YrXEEEOMoh"
      },
      "source": [
        "# Exercise 4\n",
        "What is the quotient and remainder of 67432/98?"
      ]
    },
    {
      "cell_type": "code",
      "metadata": {
        "id": "EylwRuyfOMoh",
        "outputId": "fe3b29f8-c536-454c-9c4d-97d5b1d06e69"
      },
      "source": [
        "# Your answer goes here\n"
      ],
      "execution_count": null,
      "outputs": [
        {
          "output_type": "stream",
          "text": [
            "Quotient of 67432/98: 688\n",
            "Remainder of 67432/98: 8\n"
          ],
          "name": "stdout"
        }
      ]
    },
    {
      "cell_type": "code",
      "metadata": {
        "id": "_5UAAU-VRLb9"
      },
      "source": [
        "# SOLUTION: Uncomment and execute the cell below to get help\n",
        "#disp(hint + '02-01-ex04')"
      ],
      "execution_count": null,
      "outputs": []
    },
    {
      "cell_type": "markdown",
      "metadata": {
        "id": "eGjD1P5hOMoh"
      },
      "source": [
        "# Exercise 5\n",
        "Write a statement to check whether `a` is a multiple of 5 and within the range of 100-150 or 0-50. Check your statement with the following values and it should give you the following values:\n",
        "\n",
        "55 --> False\n",
        "\n",
        "110 --> True\n",
        "\n",
        "-25 --> False\n",
        "\n",
        "150 --> False\n",
        "\n",
        "100 --> True"
      ]
    },
    {
      "cell_type": "code",
      "metadata": {
        "id": "0cTTpug-OMoh"
      },
      "source": [
        "# Your answer goes here\n"
      ],
      "execution_count": null,
      "outputs": []
    },
    {
      "cell_type": "code",
      "metadata": {
        "id": "2AKItRrRRR5A"
      },
      "source": [
        "# SOLUTION: Uncomment and execute the cell below to get help\n",
        "#disp(hint + '02-01-ex05')"
      ],
      "execution_count": null,
      "outputs": []
    }
  ]
}