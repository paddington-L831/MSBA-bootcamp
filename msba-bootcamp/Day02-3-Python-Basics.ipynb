{
  "cells": [
    {
      "cell_type": "markdown",
      "metadata": {},
      "source": [
        "# Day 2: Python Basics, Data Structures, and Control Flow\n",
        "## Lecture Notebook\n",
        "\n",
        "We'll explore variables and basic data types, core Python collections, and conditional logic.\n",
        "\n",
        "---\n"
      ]
    },
    {
      "cell_type": "markdown",
      "metadata": {},
      "source": [
        "## 🎯 Today's Learning Goals\n",
        "\n",
        "By the end of today, you will:\n",
        "1. Use variables with numbers, strings, and booleans\n",
        "2. Manipulate lists, tuples, dictionaries, and sets\n",
        "3. Write decision logic with `if`/`elif`/`else`\n",
        "4. Apply these tools to realistic business rules\n",
        "\n",
        "---\n"
      ]
    },
    {
      "cell_type": "markdown",
      "metadata": {},
      "source": [
        "## 🧱 Part 1: Variables, Expressions, and Basic Types\n",
        "\n",
        "We'll cover:\n",
        "- Creating variables and checking types\n",
        "- Numeric expressions and rounding\n",
        "- String methods (strip, title, lower, slicing)\n",
        "- Booleans in conditions\n",
        "\n",
        "### Demo 1.1: Variables & Types\n",
        "Set up subscription plan info and estimate revenue.\n"
      ]
    },
    {
      "cell_type": "code",
      "execution_count": 1,
      "metadata": {},
      "outputs": [],
      "source": [
        "# Live Code: Variables & Types\n",
        "\n",
        "# Define variables for a subscription plan and estimate monthly revenue\n",
        "# plan_name = ...\n",
        "# monthly_fee = ...\n",
        "# active_users = ...\n",
        "# is_trial = ...\n",
        "# print values, types, and est_revenue = monthly_fee * active_users\n",
        "\n"
      ]
    },
    {
      "cell_type": "markdown",
      "metadata": {},
      "source": [
        "### Demo 1.2: String Operations\n",
        "Given a `customer_full_name` and `account_id`, create a sanitized display name and a handle.\n"
      ]
    },
    {
      "cell_type": "code",
      "execution_count": 2,
      "metadata": {},
      "outputs": [],
      "source": [
        "# Live Code: String Ops\n",
        "\n",
        "# customer_full_name = \"  your customer name here  \"\n",
        "# account_id = 987654\n",
        "# Clean whitespace, title case, get initials, and build handle: last name lowercase + last 3 digits of account_id\n",
        "\n"
      ]
    },
    {
      "cell_type": "markdown",
      "metadata": {},
      "source": [
        "### Demo 1.3: Numeric Expressions\n",
        "Subscription cost with tax and coupon — compute multi-month total and round to cents.\n"
      ]
    },
    {
      "cell_type": "code",
      "execution_count": 3,
      "metadata": {},
      "outputs": [],
      "source": [
        "# Live Code: Numeric Expressions\n",
        "\n",
        "# base_fee = 15.00\n",
        "# tax_rate = 0.08\n",
        "# coupon = 5.00\n",
        "# months = 6\n",
        "# Compute pre_tax = \n",
        "# Compute total = \n",
        "\n"
      ]
    },
    {
      "cell_type": "markdown",
      "metadata": {},
      "source": [
        "---\n",
        "\n",
        "## 📦 Part 2: Core Data Structures\n",
        "\n",
        "We'll cover:\n",
        "- Lists: creation, indexing, slicing, aggregation\n",
        "- Tuples: immutability, unpacking, use-cases\n",
        "- Dictionaries: key/value access, updates, defaults\n",
        "- Sets: uniqueness, membership, set operations\n",
        "\n",
        "### Demo 2.1: Lists — Sales Series\n"
      ]
    },
    {
      "cell_type": "code",
      "execution_count": 4,
      "metadata": {},
      "outputs": [],
      "source": [
        "# Live Code: Lists\n",
        "\n",
        "# daily_signups = [32, 45, 28, 51, 47]\n",
        "# Append a new day's signups, compute min/max/avg, replace index 2, slice last 3\n",
        "\n"
      ]
    },
    {
      "cell_type": "markdown",
      "metadata": {},
      "source": [
        "### Demo 2.2: Tuples — Product Snapshot\n"
      ]
    },
    {
      "cell_type": "code",
      "execution_count": 5,
      "metadata": {},
      "outputs": [],
      "source": [
        "# Live Code: Tuples\n",
        "\n",
        "# plan = (\"BASIC\", \"Starter Plan\", 9.99)\n",
        "# Unpack, attempt mutation (show TypeError), create updated tuple with new price\n",
        "\n"
      ]
    },
    {
      "cell_type": "markdown",
      "metadata": {},
      "source": [
        "### Demo 2.3: Dictionaries — Customer Profile\n"
      ]
    },
    {
      "cell_type": "code",
      "execution_count": 6,
      "metadata": {},
      "outputs": [],
      "source": [
        "# Live Code: Dictionaries\n",
        "\n",
        "# member = {\"member_id\": 2001, \"name\": \"Jordan Lee\", \"level\": \"Standard\", \"credits\": 75}\n",
        "# Access, add contact email, increment credits\n",
        "\n"
      ]
    },
    {
      "cell_type": "markdown",
      "metadata": {},
      "source": [
        "### Demo 2.4: Sets — Unique Purchases and Promotions\n"
      ]
    },
    {
      "cell_type": "code",
      "execution_count": 7,
      "metadata": {},
      "outputs": [],
      "source": [
        "# Live Code: Sets\n",
        "\n",
        "# attendee_emails = [\"a@x.com\", \"b@y.com\", \"a@x.com\", \"c@z.com\", \"b@y.com\"]\n",
        "# unique_emails = set(attendee_emails)\n",
        "# add \"d@w.com\"\n",
        "# Check membership and intersection with invited = {\"b@y.com\", \"d@w.com\", \"e@v.com\"}\n",
        "\n"
      ]
    },
    {
      "cell_type": "markdown",
      "metadata": {},
      "source": [
        "---\n",
        "\n",
        "## 🔀 Part 3: Control Flow with Conditionals\n",
        "\n",
        "### Demo 3.1: Shipping Cost Rules\n",
        "Implement tiered shipping based on order total.\n"
      ]
    },
    {
      "cell_type": "code",
      "execution_count": 8,
      "metadata": {},
      "outputs": [],
      "source": [
        "# Live Code: Shipping Cost Rules\n",
        "\n",
        "# cart_total = 72.40\n",
        "# if ... elif ... else ...\n",
        "# Compute shipping_cost and grand_total, print both\n",
        "\n"
      ]
    },
    {
      "cell_type": "markdown",
      "metadata": {},
      "source": [
        "### Demo 3.2: Loyalty Discount\n",
        "Apply a discount based on customer tier.\n"
      ]
    },
    {
      "cell_type": "code",
      "execution_count": 9,
      "metadata": {},
      "outputs": [],
      "source": [
        "# Live Code: Loyalty Discount\n",
        "\n",
        "# tier = \"Premium\"\n",
        "# purchase_total = 180.00\n",
        "# Determine rate via if/elif/else, compute discount_amount and final_total\n",
        "\n"
      ]
    },
    {
      "cell_type": "markdown",
      "metadata": {},
      "source": [
        "### Demo 3.3: Fraud Check\n",
        "Combine multiple conditions with boolean operators to flag risky orders.\n"
      ]
    },
    {
      "cell_type": "code",
      "execution_count": null,
      "metadata": {},
      "outputs": [],
      "source": [
        "# Live Code: Fraud Check\n",
        "\n",
        "# amount = 950.00\n",
        "# destination_country = \"DE\"\n",
        "# billing_address = \"123 A St\"\n",
        "# shipping_address = \"123 A St\"\n",
        "# account_active = False\n",
        "# Build boolean expression and print is_flagged\n",
        "\n"
      ]
    },
    {
      "cell_type": "markdown",
      "metadata": {},
      "source": [
        "---\n",
        "\n",
        "## ➡️ Next: Work through the Day 2 Assignment\n",
        "Open `Day02-2-Python-Basics-Assignment.ipynb` to practice.\n"
      ]
    }
  ],
  "metadata": {
    "kernelspec": {
      "display_name": "py_latest",
      "language": "python",
      "name": "python3"
    },
    "language_info": {
      "codemirror_mode": {
        "name": "ipython",
        "version": 3
      },
      "file_extension": ".py",
      "mimetype": "text/x-python",
      "name": "python",
      "nbconvert_exporter": "python",
      "pygments_lexer": "ipython3",
      "version": "3.13.2"
    }
  },
  "nbformat": 4,
  "nbformat_minor": 2
}
