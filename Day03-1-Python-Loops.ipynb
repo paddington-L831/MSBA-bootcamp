{
  "cells": [
    {
      "cell_type": "markdown",
      "metadata": {
        "id": "ekQMB27OjpNT"
      },
      "source": [
        "# Day 3: Python Loops\n",
        "## Lecture Notebook\n",
        "\n",
        "This notebook is for live coding on loops. We'll iterate with `for` and `while`, compare when to use each, and practice common patterns.\n",
        "\n",
        "---\n"
      ]
    },
    {
      "cell_type": "markdown",
      "metadata": {
        "id": "uiDJSRr3jpNV"
      },
      "source": [
        "## 🎯 Goals for This Session\n",
        "- Iterate lists and ranges with `for`\n",
        "- Control repetition and termination with `while`\n",
        "- Choose the right loop for the job\n",
        "\n",
        "---\n"
      ]
    },
    {
      "cell_type": "markdown",
      "metadata": {
        "id": "61-v8SVFjpNW"
      },
      "source": [
        "## 🔁 Part 1: For Loops\n",
        "\n",
        "### Demo 1.1: Iterating Over a List\n",
        "Iterate over `orders = [45, 120, 75, 200, 95]` and compute total and count of orders >= 100.\n"
      ]
    },
    {
      "cell_type": "code",
      "execution_count": 6,
      "metadata": {
        "colab": {
          "base_uri": "https://localhost:8080/"
        },
        "id": "bJf-6MS1jpNX",
        "outputId": "97d106d0-c923-4c40-a8f8-1ddaefd422da"
      },
      "outputs": [
        {
          "output_type": "stream",
          "name": "stdout",
          "text": [
            "1.current total:0 current amount:45\n",
            "2.current total:45 current amount:120\n",
            "3.current total:165 current amount:75\n",
            "4.current total:240 current amount:200\n",
            "5.current total:440 current amount:95\n",
            "535 2\n"
          ]
        }
      ],
      "source": [
        "# Live Code: For Loop over list\n",
        "\n",
        "orders = [45, 120, 75, 200, 95]\n",
        "transaction_n = 0\n",
        "total = 0\n",
        "high_count = 0\n",
        "\n",
        "for amount in orders:\n",
        "  transaction_n += 1\n",
        "  print(f\"{transaction_n}.current total:{total} current amount:{amount}\")\n",
        "  total += amount\n",
        "  if amount >= 100:\n",
        "    high_count += 1\n",
        "\n",
        "print(total, high_count)\n",
        "\n"
      ]
    },
    {
      "cell_type": "markdown",
      "metadata": {
        "id": "tJaIKvVcjpNY"
      },
      "source": [
        "### Demo 1.2: Range and Index\n",
        "Use `range` to iterate indexes for `names = [\"Ava\", \"Ben\", \"Cara\"]` and print index → name.\n"
      ]
    },
    {
      "cell_type": "code",
      "execution_count": 7,
      "metadata": {
        "colab": {
          "base_uri": "https://localhost:8080/"
        },
        "id": "4-tdRc0mjpNY",
        "outputId": "decde70e-23b9-4832-9391-ff85cfd96309"
      },
      "outputs": [
        {
          "output_type": "stream",
          "name": "stdout",
          "text": [
            "0 Ava\n",
            "1 Ben\n",
            "2 Cara\n"
          ]
        }
      ],
      "source": [
        "# Live Code: range indices\n",
        "\n",
        "names = [\"Ava\", \"Ben\", \"Cara\"]\n",
        "for i in range(len(names)):\n",
        "   print(i, names[i])\n",
        "\n"
      ]
    },
    {
      "cell_type": "code",
      "source": [
        "names = [\"Ava\", \"Ben\", \"Cara\"]\n",
        "for _, i in enumerate(names):\n",
        "  print(f\"Hi,{i}\")"
      ],
      "metadata": {
        "id": "pA-Un1TXsvm8",
        "outputId": "443176c3-3efb-4ada-aedb-5c0af4e73ba9",
        "colab": {
          "base_uri": "https://localhost:8080/"
        }
      },
      "execution_count": 12,
      "outputs": [
        {
          "output_type": "stream",
          "name": "stdout",
          "text": [
            "Hi,Ava\n",
            "Hi,Ben\n",
            "Hi,Cara\n"
          ]
        }
      ]
    },
    {
      "cell_type": "markdown",
      "metadata": {
        "id": "iK50HewgjpNY"
      },
      "source": [
        "## 🔄 Part 2: While Loops\n",
        "\n",
        "### Demo 2.1: Counter with Condition\n",
        "Increment a counter until it reaches a limit; print steps.\n"
      ]
    },
    {
      "cell_type": "code",
      "execution_count": null,
      "metadata": {
        "id": "Jo2W4Kq-jpNZ"
      },
      "outputs": [],
      "source": [
        "# Live Code: while loop counter\n",
        "\n",
        "count = 0\n",
        "limit = 5\n",
        "while count < limit:\n",
        "  count += 1\n",
        "  print(count)\n",
        "\n"
      ]
    },
    {
      "cell_type": "markdown",
      "metadata": {
        "id": "kLnaiAVVjpNZ"
      },
      "source": [
        "### Demo 2.2: Input Simulation with Sentinel\n",
        "Simulate reading values until `None` is encountered, then stop."
      ]
    },
    {
      "cell_type": "code",
      "execution_count": 13,
      "metadata": {
        "colab": {
          "base_uri": "https://localhost:8080/"
        },
        "id": "WsUOX-brjpNZ",
        "outputId": "72e4168d-5918-4057-8864-f493dc506f99"
      },
      "outputs": [
        {
          "output_type": "stream",
          "name": "stdout",
          "text": [
            "10\n",
            "20\n"
          ]
        }
      ],
      "source": [
        "# Live Code: sentinel loop\n",
        "\n",
        "values = [10, 20, None, 30]\n",
        "i = 0\n",
        "while i < len(values) and values[i] is not None:\n",
        "  print(values[i])\n",
        "  i += 1\n",
        "\n"
      ]
    },
    {
      "cell_type": "markdown",
      "metadata": {
        "id": "QY4oUXIOjpNa"
      },
      "source": [
        "## 🧪 Part 3: Filtering/Mapping and Flow Control\n",
        "\n",
        "### Demo 3.1: Filtering and Mapping\n",
        "Use a loop to filter and then map values in a single pass.\n"
      ]
    },
    {
      "cell_type": "code",
      "execution_count": 18,
      "metadata": {
        "colab": {
          "base_uri": "https://localhost:8080/"
        },
        "id": "pPqjboMbjpNa",
        "outputId": "9d7dd40f-b823-4134-d912-18b6d66ecd06"
      },
      "outputs": [
        {
          "output_type": "stream",
          "name": "stdout",
          "text": [
            "[25.0, 120.0, 49.99]\n",
            "[10.81, 27.06, 4.87, 129.9, 54.11]\n"
          ]
        }
      ],
      "source": [
        "# Live Code: Filtering and Mapping\n",
        "\n",
        "prices = [9.99, 25.00, 4.50, 120.00, 49.99]\n",
        "filtered = []  # keep prices >= 20\n",
        "with_tax = []  # map to price * 1.0825 (example tax)\n",
        "\n",
        "for price in prices:\n",
        "  if price >= 20:\n",
        "   filtered.append(price)\n",
        "  with_tax.append(round(price * 1.0825,2))\n",
        "\n",
        "print(filtered)\n",
        "print(with_tax)"
      ]
    },
    {
      "cell_type": "markdown",
      "metadata": {
        "id": "ACEBY2upjpNa"
      },
      "source": [
        "Now let's write a list comprehension that returns a list of prices (with tax) for items >=$20:"
      ]
    },
    {
      "cell_type": "code",
      "execution_count": 20,
      "metadata": {
        "colab": {
          "base_uri": "https://localhost:8080/"
        },
        "id": "-KLQm4xJjpNa",
        "outputId": "14c3ea4a-3cd8-4a9f-f5bf-59c712101a5f"
      },
      "outputs": [
        {
          "output_type": "stream",
          "name": "stdout",
          "text": [
            "[27.06, 129.9, 54.11]\n"
          ]
        }
      ],
      "source": [
        "# Live Code: Filtering and Mapping\n",
        "\n",
        "prices = [9.99, 25.00, 4.50, 120.00, 49.99]\n",
        "\n",
        "with_tax = [round(price * 1.0825, 2) for price in prices if price >= 20]\n",
        "print(with_tax)"
      ]
    },
    {
      "cell_type": "markdown",
      "metadata": {
        "id": "iV8sd49RjpNa"
      },
      "source": [
        "### Demo 3.2: Early Exit and Skips\n",
        "Demonstrating `break` to stop early and `continue` to skip items."
      ]
    },
    {
      "cell_type": "code",
      "execution_count": 22,
      "metadata": {
        "colab": {
          "base_uri": "https://localhost:8080/"
        },
        "id": "2VvtfZexjpNa",
        "outputId": "5373dc68-e4a5-44b5-c1ef-0da1bd52e165"
      },
      "outputs": [
        {
          "output_type": "stream",
          "name": "stdout",
          "text": [
            "Total before te current transaction: 0 current transaction: 3\n",
            "Total before te current transaction: 3 current transaction: 7\n",
            "\n",
            " WARNNING:: Transaction with value-1 is being skipped!\n",
            "\n",
            "Total before te current transaction: 10 current transaction: 10\n",
            "Total before te current transaction: 20 current transaction: 0\n",
            "Total before te current transaction: 20 current transaction: 5\n",
            "25\n"
          ]
        }
      ],
      "source": [
        "# Live Code: break and continue\n",
        "\n",
        "numbers = [3, 7, -1, 10, 0, 5]\n",
        "total = 0\n",
        "for n in numbers:\n",
        "    # if n < 0:\n",
        "    #     break  # early exit on invalid value\n",
        "    if n < 0:\n",
        "        print(f\"\\n WARNNING:: Transaction with value{n} is being skipped!\\n\")\n",
        "        continue  # skip zeros\n",
        "    print(f\"Total before te current transaction: {total} current transaction:{n}\")\n",
        "    total += n\n",
        "print(total)\n",
        "\n"
      ]
    }
  ],
  "metadata": {
    "language_info": {
      "name": "python"
    },
    "colab": {
      "provenance": []
    },
    "kernelspec": {
      "name": "python3",
      "display_name": "Python 3"
    }
  },
  "nbformat": 4,
  "nbformat_minor": 0
}